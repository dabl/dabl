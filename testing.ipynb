{
 "cells": [
  {
   "cell_type": "code",
   "execution_count": 1,
   "metadata": {},
   "outputs": [],
   "source": [
    "import dabl\n",
    "import pandas as pd\n",
    "import matplotlib.pyplot as plt\n",
    "%matplotlib inline\n",
    "import numpy as np\n",
    "from dabl.preprocessing import detect_types\n",
    "from dabl.plotting import plot_supervised"
   ]
  },
  {
   "cell_type": "code",
   "execution_count": 2,
   "metadata": {},
   "outputs": [],
   "source": [
    "avocado = pd.read_csv(\"/home/andy/datasets/avocado.csv\", parse_dates=['Date'])\n",
    "telco_churn = pd.read_csv(\"/home/andy/datasets/WA_Fn-UseC_-Telco-Customer-Churn.csv\")\n",
    "#restaurant = pd.read_csv(\"/home/andy/datasets/restaurant-and-market-health-violations.csv\")\n",
    "titanic = pd.read_csv(\"dabl/tests/titanic.csv\")\n",
    "ames = pd.read_excel(\"/home/andy/datasets/AmesHousing.xls\")\n",
    "cars = pd.read_excel(\"/home/andy/datasets/2018 FE Guide for DOE-release dates before 1-24-2018-no-sales-1-23-2018public.xlsx\")\n",
    "target = 'Comb Unadj FE - Conventional Fuel'\n",
    "#accidents = pd.read_csv(\"/home/andy/datasets/Acc.csv\")\n",
    "#violations = pd.read_csv(\"/home/andy/datasets/Traffic_Violations.csv\")\n",
    "adult = pd.read_csv(\"/home/andy/datasets/adult.csv\")\n",
    "\n",
    "# individual_donations = pd.read_csv(\"/home/andy/datasets/itcont.txt\")\n",
    "# FIXME add rent stuff from first year\n",
    "# FIXME add stuff from Gael's papers"
   ]
  },
  {
   "cell_type": "code",
   "execution_count": 2,
   "metadata": {},
   "outputs": [],
   "source": [
    "def make_data_df(data_bunch):\n",
    "    try:\n",
    "        feature_names = data_bunch.feature_names\n",
    "    except AttributeError:\n",
    "        feature_names = ['x%d' % i for i in range(data_bunch.data.shape[1])]\n",
    "    df = pd.DataFrame(data_bunch.data, columns=feature_names)\n",
    "    try:\n",
    "        df['target'] = data_bunch.target_names[data_bunch.target]\n",
    "    except AttributeError:\n",
    "        df['target'] = data_bunch.target\n",
    "    return df\n",
    "\n",
    "from sklearn.datasets import load_diabetes, load_boston, load_iris, load_digits, load_breast_cancer\n",
    "diabetes = load_diabetes()\n",
    "boston = load_boston()"
   ]
  },
  {
   "cell_type": "code",
   "execution_count": 3,
   "metadata": {},
   "outputs": [],
   "source": [
    "data = make_data_df(load_breast_cancer())\n",
    "target = 'target'"
   ]
  },
  {
   "cell_type": "code",
   "execution_count": 4,
   "metadata": {},
   "outputs": [],
   "source": [
    "#data = pd.read_csv(\"dabl/tests/titanic.csv\", na_values=['?'])\n",
    "data = pd.read_csv(\"dabl/tests/titanic.csv\")\n",
    "target = 'survived'"
   ]
  },
  {
   "cell_type": "code",
   "execution_count": 4,
   "metadata": {},
   "outputs": [],
   "source": [
    "data = pd.read_excel(\"/home/andy/datasets/AmesHousing.xls\")\n",
    "target = 'SalePrice'"
   ]
  },
  {
   "cell_type": "code",
   "execution_count": 6,
   "metadata": {},
   "outputs": [],
   "source": [
    "data = make_data_df(load_digits())\n",
    "target = 'target'"
   ]
  },
  {
   "cell_type": "code",
   "execution_count": 4,
   "metadata": {},
   "outputs": [],
   "source": [
    "data = adult\n",
    "target = 'income'"
   ]
  },
  {
   "cell_type": "code",
   "execution_count": 8,
   "metadata": {},
   "outputs": [],
   "source": [
    "data = pd.read_csv(\"/home/andy/datasets/WA_Fn-UseC_-Telco-Customer-Churn.csv\")\n",
    "target = 'Churn'"
   ]
  },
  {
   "cell_type": "code",
   "execution_count": 5,
   "metadata": {},
   "outputs": [
    {
     "name": "stderr",
     "output_type": "stream",
     "text": [
      "/home/andy/checkout/dabl/dabl/preprocessing.py:212: UserWarning: Discarding near-constant features: ['fare_?']\n",
      "  near_constant.index[near_constant].tolist()))\n",
      "/home/andy/checkout/dabl/dabl/preprocessing.py:212: UserWarning: Discarding near-constant features: ['fare_?']\n",
      "  near_constant.index[near_constant].tolist()))\n"
     ]
    },
    {
     "name": "stdout",
     "output_type": "stream",
     "text": [
      "DummyClassifier(strategy='prior')\n",
      "accuracy: 0.6180    average_precision: 0.3820    recall_macro: 0.5000    roc_auc: 0.5000    \n",
      "new best (using recall macro):\n",
      "accuracy             0.618028\n",
      "average_precision    0.381972\n",
      "recall_macro         0.500000\n",
      "roc_auc              0.500000\n",
      "Name: DummyClassifier(strategy='prior'), dtype: float64\n",
      "GaussianNB()\n",
      "accuracy: 0.9007    average_precision: 0.8750    recall_macro: 0.9064    roc_auc: 0.9189    \n",
      "new best (using recall macro):\n",
      "accuracy             0.900719\n",
      "average_precision    0.875011\n",
      "recall_macro         0.906354\n",
      "roc_auc              0.918921\n",
      "Name: GaussianNB(), dtype: float64\n",
      "MultinomialNB()\n",
      "accuracy: 0.8946    average_precision: 0.9841    recall_macro: 0.8976    roc_auc: 0.9873    \n",
      "DecisionTreeClassifier(class_weight='balanced', max_depth=1)\n",
      "accuracy: 0.9755    average_precision: 0.9540    recall_macro: 0.9714    roc_auc: 0.9714    \n",
      "new best (using recall macro):\n",
      "accuracy             0.975540\n",
      "average_precision    0.953971\n",
      "recall_macro         0.971441\n",
      "roc_auc              0.971441\n",
      "Name: DecisionTreeClassifier(class_weight='balanced', max_depth=1), dtype: float64\n",
      "DecisionTreeClassifier(class_weight='balanced', max_depth=5)\n",
      "accuracy: 0.9542    average_precision: 0.9386    recall_macro: 0.9499    roc_auc: 0.9593    \n",
      "DecisionTreeClassifier(class_weight='balanced', min_impurity_decrease=0.01)\n",
      "accuracy: 0.9755    average_precision: 0.9540    recall_macro: 0.9714    roc_auc: 0.9714    \n",
      "LogisticRegression(C=0.1, class_weight='balanced', multi_class='auto',\n",
      "          solver='lbfgs')\n",
      "accuracy: 0.9679    average_precision: 0.9855    recall_macro: 0.9653    roc_auc: 0.9881    \n",
      "Best model:\n",
      "DecisionTreeClassifier(class_weight='balanced', max_depth=1)\n",
      "Best Scores:\n",
      "accuracy             0.975540\n",
      "average_precision    0.953971\n",
      "recall_macro         0.971441\n",
      "roc_auc              0.971441\n",
      "Name: DecisionTreeClassifier(class_weight='balanced', max_depth=1), dtype: float64\n"
     ]
    },
    {
     "name": "stderr",
     "output_type": "stream",
     "text": [
      "/home/andy/checkout/dabl/dabl/preprocessing.py:212: UserWarning: Discarding near-constant features: ['fare_?']\n",
      "  near_constant.index[near_constant].tolist()))\n"
     ]
    }
   ],
   "source": [
    "from dabl.models import EasyClassifier\n",
    "X = data.drop(target, axis=1)\n",
    "y = data[target]\n",
    "ec = EasyClassifier(refit=True).fit(X, y)"
   ]
  },
  {
   "cell_type": "code",
   "execution_count": 6,
   "metadata": {},
   "outputs": [
    {
     "name": "stdout",
     "output_type": "stream",
     "text": [
      "DecisionTreeClassifier(class_weight='balanced', criterion='gini', max_depth=1,\n",
      "                       max_features=None, max_leaf_nodes=None,\n",
      "                       min_impurity_decrease=0.0, min_impurity_split=None,\n",
      "                       min_samples_leaf=1, min_samples_split=2,\n",
      "                       min_weight_fraction_leaf=0.0, presort=False,\n",
      "                       random_state=None, splitter='best')\n",
      "Depth: 1\n",
      "Number of leaves: 2\n"
     ]
    },
    {
     "data": {
      "image/png": "[encoded data removed]",
      "text/plain": [
       "<Figure size 432x288 with 1 Axes>"
      ]
     },
     "metadata": {},
     "output_type": "display_data"
    },
    {
     "data": {
      "image/png": "[encoded data removed]",
      "text/plain": [
       "<Figure size 1080x360 with 1 Axes>"
      ]
     },
     "metadata": {},
     "output_type": "display_data"
    }
   ],
   "source": [
    "from dabl.explain import explain\n",
    "explain(ec)"
   ]
  },
  {
   "cell_type": "code",
   "execution_count": 4,
   "metadata": {},
   "outputs": [
    {
     "data": {
      "text/plain": [
       "array([0., 0., 1., 0., 0., 0., 0., 0., 0., 0., 0., 0., 0., 0., 0., 0., 0.,\n",
       "       0., 0., 0.])"
      ]
     },
     "execution_count": 4,
     "metadata": {},
     "output_type": "execute_result"
    }
   ],
   "source": [
    "coef"
   ]
  },
  {
   "cell_type": "code",
   "execution_count": 6,
   "metadata": {},
   "outputs": [
    {
     "data": {
      "image/png": "[encoded data removed]",
      "text/plain": [
       "<Figure size 1080x360 with 1 Axes>"
      ]
     },
     "metadata": {},
     "output_type": "display_data"
    }
   ],
   "source": [
    "from dabl.explain import plot_coefficients\n",
    "coef = np.arange(20)\n",
    "names = [\"feature_{}\".format(i) for i in range(20)]\n",
    "plot_coefficients(coef, names, n_top_features=5)"
   ]
  },
  {
   "cell_type": "code",
   "execution_count": 25,
   "metadata": {},
   "outputs": [],
   "source": [
    "from dabl.preprocessing import EasyPreprocessor, clean\n",
    "ep = EasyPreprocessor()"
   ]
  },
  {
   "cell_type": "code",
   "execution_count": 26,
   "metadata": {},
   "outputs": [
    {
     "name": "stderr",
     "output_type": "stream",
     "text": [
      "/home/andy/checkout/dabl/dabl/preprocessing.py:212: UserWarning: Discarding near-constant features: ['fare_?']\n",
      "  near_constant.index[near_constant].tolist()))\n",
      "/home/andy/checkout/dabl/dabl/preprocessing.py:212: UserWarning: Discarding near-constant features: ['fare_?']\n",
      "  near_constant.index[near_constant].tolist()))\n"
     ]
    },
    {
     "data": {
      "text/plain": [
       "EasyPreprocessor(scale=True, types=None, verbose=0)"
      ]
     },
     "execution_count": 26,
     "metadata": {},
     "output_type": "execute_result"
    }
   ],
   "source": [
    "X = clean(X)\n",
    "ep.fit(X, y)"
   ]
  },
  {
   "cell_type": "code",
   "execution_count": 35,
   "metadata": {},
   "outputs": [
    {
     "data": {
      "text/plain": [
       "Index(['age_?', 'body_?', 'pclass', 'sex', 'embarked', 'boat'], dtype='object')"
      ]
     },
     "execution_count": 35,
     "metadata": {},
     "output_type": "execute_result"
    }
   ],
   "source": [
    "X.columns[X.columns.map(cols)]  ## WTF Ask joris!!"
   ]
  },
  {
   "cell_type": "code",
   "execution_count": null,
   "metadata": {},
   "outputs": [],
   "source": [
    "# from sklearn.datasets import fetch_openml\n",
    "# adult = fetch_openml(\"adult-census\")\n",
    "# adult_df = pd.DataFrame(adult.data, columns=adult.feature_names)"
   ]
  },
  {
   "cell_type": "code",
   "execution_count": null,
   "metadata": {},
   "outputs": [],
   "source": [
    "y = adult.income\n",
    "X = adult.drop(\"income\", axis=1)"
   ]
  },
  {
   "cell_type": "code",
   "execution_count": null,
   "metadata": {},
   "outputs": [],
   "source": [
    "X.columns"
   ]
  },
  {
   "cell_type": "code",
   "execution_count": null,
   "metadata": {},
   "outputs": [],
   "source": [
    "X.shape"
   ]
  },
  {
   "cell_type": "code",
   "execution_count": null,
   "metadata": {},
   "outputs": [],
   "source": [
    "from fml.preprocessing import detect_types_dataframe\n",
    "detect_types_dataframe(X)"
   ]
  },
  {
   "cell_type": "code",
   "execution_count": null,
   "metadata": {},
   "outputs": [],
   "source": [
    "n_values = X.apply(lambda x: x.nunique())\n",
    "n_values"
   ]
  },
  {
   "cell_type": "code",
   "execution_count": null,
   "metadata": {},
   "outputs": [],
   "source": [
    "fc = FriendlyClassifier().fit(X, y)"
   ]
  },
  {
   "cell_type": "code",
   "execution_count": null,
   "metadata": {},
   "outputs": [],
   "source": [
    "from fml.preprocessing import detect_types_dataframe"
   ]
  },
  {
   "cell_type": "code",
   "execution_count": null,
   "metadata": {},
   "outputs": [],
   "source": []
  },
  {
   "cell_type": "code",
   "execution_count": null,
   "metadata": {},
   "outputs": [],
   "source": [
    "asdf = detect_types_dataframe(X, verbose=10)"
   ]
  },
  {
   "cell_type": "code",
   "execution_count": null,
   "metadata": {},
   "outputs": [],
   "source": [
    "asdf.categorical"
   ]
  },
  {
   "cell_type": "code",
   "execution_count": null,
   "metadata": {},
   "outputs": [],
   "source": [
    "\"\".join(\"{}: {} \".format(a, b) for a, b in asdf.categorical.items())"
   ]
  },
  {
   "cell_type": "code",
   "execution_count": null,
   "metadata": {},
   "outputs": [],
   "source": [
    "X_cleanish.shape"
   ]
  },
  {
   "cell_type": "code",
   "execution_count": null,
   "metadata": {},
   "outputs": [],
   "source": [
    "fp = FriendlyPreprocessor()\n",
    "fp.fit_transform(X_cleanish).shape"
   ]
  },
  {
   "cell_type": "code",
   "execution_count": null,
   "metadata": {},
   "outputs": [],
   "source": [
    "%%prun -s cumulative -l 100 -D test.prof\n",
    "X_cleanish = safe_cleanup(X, onehot=True)\n",
    "fc = FriendlyClassifier().fit(X_cleanish, y)"
   ]
  },
  {
   "cell_type": "code",
   "execution_count": 19,
   "metadata": {},
   "outputs": [],
   "source": [
    "X.index = np.zeros(len(X))"
   ]
  },
  {
   "cell_type": "code",
   "execution_count": 22,
   "metadata": {},
   "outputs": [
    {
     "data": {
      "text/plain": [
       "False"
      ]
     },
     "execution_count": 22,
     "metadata": {},
     "output_type": "execute_result"
    }
   ],
   "source": [
    "X.index.is_unique"
   ]
  },
  {
   "cell_type": "code",
   "execution_count": 27,
   "metadata": {},
   "outputs": [
    {
     "data": {
      "text/html": [
       "<div>\n",
       "<style scoped>\n",
       "    .dataframe tbody tr th:only-of-type {\n",
       "        vertical-align: middle;\n",
       "    }\n",
       "\n",
       "    .dataframe tbody tr th {\n",
       "        vertical-align: top;\n",
       "    }\n",
       "\n",
       "    .dataframe thead th {\n",
       "        text-align: right;\n",
       "    }\n",
       "</style>\n",
       "<table border=\"1\" class=\"dataframe\">\n",
       "  <thead>\n",
       "    <tr style=\"text-align: right;\">\n",
       "      <th></th>\n",
       "      <th>a</th>\n",
       "      <th>a</th>\n",
       "    </tr>\n",
       "  </thead>\n",
       "  <tbody>\n",
       "    <tr>\n",
       "      <th>0</th>\n",
       "      <td>0</td>\n",
       "      <td>1</td>\n",
       "    </tr>\n",
       "  </tbody>\n",
       "</table>\n",
       "</div>"
      ],
      "text/plain": [
       "   a  a\n",
       "0  0  1"
      ]
     },
     "execution_count": 27,
     "metadata": {},
     "output_type": "execute_result"
    }
   ],
   "source": [
    "X = pd.DataFrame([[0, 1]], columns=['a', 'a'])\n",
    "X"
   ]
  },
  {
   "cell_type": "code",
   "execution_count": null,
   "metadata": {},
   "outputs": [],
   "source": []
  }
 ],
 "metadata": {
  "kernelspec": {
   "display_name": "Python 3",
   "language": "python",
   "name": "python3"
  },
  "language_info": {
   "codemirror_mode": {
    "name": "ipython",
    "version": 3
   },
   "file_extension": ".py",
   "mimetype": "text/x-python",
   "name": "python",
   "nbconvert_exporter": "python",
   "pygments_lexer": "ipython3",
   "version": "3.7.1"
  }
 },
 "nbformat": 4,
 "nbformat_minor": 2
}
