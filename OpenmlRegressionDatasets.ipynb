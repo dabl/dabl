{
 "cells": [
  {
   "cell_type": "code",
   "execution_count": null,
   "id": "3635f3ea-44e4-4176-9e24-6f11b0ab2008",
   "metadata": {},
   "outputs": [],
   "source": [
    "from dabl import plot\n",
    "from sklearn.datasets import fetch_openml\n",
    "from dabl.datasets import load_ames\n",
    "import pandas as pd\n",
    "import numpy as np"
   ]
  },
  {
   "cell_type": "code",
   "execution_count": null,
   "id": "d6d50409-d5f7-4204-a70c-8bf818c86e99",
   "metadata": {},
   "outputs": [],
   "source": [
    "#data = fetch_openml('plasma_retinol', as_frame=True)\n",
    "#data = fetch_openml('boston', as_frame=True)\n",
    "\n",
    "#data = fetch_openml('lowbwt', as_frame=True)\n",
    "# data = fetch_openml('cps_85_wages', as_frame=True)\n",
    "# data = fetch_openml('visualizing_soil', as_frame=True) ###\n",
    "\n",
    "# data = fetch_openml('diamonds', as_frame=True) ###\n",
    "\n",
    "# data = fetch_openml('machine_cpu', as_frame=True)\n",
    "\n",
    "# data = fetch_openml('bank32nh', as_frame=True)\n",
    "\n",
    "# data = fetch_openml('autoPrice', as_frame=True)\n",
    "\n",
    "#data = fetch_openml('rainfall_bangladesh', as_frame=True)\n",
    "\n",
    "#data = fetch_openml('Housing-Prices-in-London', as_frame=True) ###\n",
    "\n",
    "# data = fetch_openml('Brazilian_houses', as_frame=True) #######\n",
    "\n",
    "data = fetch_openml('house_sales', as_frame=True) #####\n",
    "\n",
    "\n",
    "# data = fetch_openml('New-Delhi-Rental-Listings', as_frame=True) ##### <- this!!\n",
    "\n",
    "# data = fetch_openml('1000-Cameras-Dataset', as_frame=True) #####\n",
    "\n",
    "# data = fetch_openml('Used-Cars-Dataset', as_frame=True) ### BIG LOL\n",
    "\n",
    "## data = fetch_openml('Brilliant-Diamonds', as_frame=True)\n",
    "\n",
    "# data = fetch_openml('2018-Airplane-Flights', as_frame=True)\n",
    "# \n",
    "# \n",
    "# \n",
    "# Bike-Sharing-Washington-DC\n",
    "# Worldwide-Meat-Consumption\n",
    "# features-and-price-of-computer-components\n",
    "# US-Real-Estate-Listings-by-Zip-Code\n",
    "# Business-Courses---Udemy-(10k-courses)\n",
    "\n",
    "print(data.frame.shape)\n",
    "if data.target is not None:\n",
    "    target_col = data.target.name\n",
    "elif \"Price\" in data.frame.columns:\n",
    "    target_col = \"Price\"\n",
    "elif \"price\" in data.frame.columns:\n",
    "    target_col = \"price\"\n",
    "\n",
    "plot(data.frame, target_col=target_col, type_hints={target_col: 'continuous'}, find_scatter_categoricals=True)"
   ]
  },
  {
   "cell_type": "code",
   "execution_count": null,
   "id": "53bdc783-8257-406a-87c7-7a14d0e297b7",
   "metadata": {},
   "outputs": [],
   "source": []
  }
 ],
 "metadata": {
  "kernelspec": {
   "display_name": "Python [conda env:sklearndev]",
   "language": "python",
   "name": "conda-env-sklearndev-py"
  },
  "language_info": {
   "codemirror_mode": {
    "name": "ipython",
    "version": 3
   },
   "file_extension": ".py",
   "mimetype": "text/x-python",
   "name": "python",
   "nbconvert_exporter": "python",
   "pygments_lexer": "ipython3",
   "version": "3.9.13"
  }
 },
 "nbformat": 4,
 "nbformat_minor": 5
}
